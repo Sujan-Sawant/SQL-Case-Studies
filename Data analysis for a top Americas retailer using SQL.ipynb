{
  "nbformat": 4,
  "nbformat_minor": 0,
  "metadata": {
    "colab": {
      "provenance": [],
      "authorship_tag": "ABX9TyPJY7dtm4LOIDlExjq7bPvL",
      "include_colab_link": true
    },
    "kernelspec": {
      "name": "python3",
      "display_name": "Python 3"
    },
    "language_info": {
      "name": "python"
    }
  },
  "cells": [
    {
      "cell_type": "markdown",
      "metadata": {
        "id": "view-in-github",
        "colab_type": "text"
      },
      "source": [
        "<a href=\"https://colab.research.google.com/github/Sujan-Sawant/SQL-Case-Studies/blob/main/Data%20analysis%20for%20a%20top%20Americas%20retailer%20using%20SQL.ipynb\" target=\"_parent\"><img src=\"https://colab.research.google.com/assets/colab-badge.svg\" alt=\"Open In Colab\"/></a>"
      ]
    },
    {
      "cell_type": "markdown",
      "source": [
        "## Q1 Import the dataset and do usual exploratory analysis steps like checking the structure & characteristics of the dataset."
      ],
      "metadata": {
        "id": "zhXBHvY4yfOZ"
      }
    },
    {
      "cell_type": "code",
      "execution_count": null,
      "metadata": {
        "id": "tk43g392nHKa"
      },
      "outputs": [],
      "source": [
        "\n",
        "1: Data type of all columns in the \"customers\" table"
      ]
    },
    {
      "cell_type": "code",
      "source": [
        "2: Get the time range between which the orders were placed.\n",
        "\n",
        "Query:\n",
        "\n",
        "SELECT\n",
        "MIN(DATE(order_purchase_timestamp)) AS first_date,\n",
        "MAX(DATE(order_purchase_timestamp)) AS last_date,\n",
        "TIME(MIN(order_purchase_timestamp)) AS first_time,\n",
        "TIME(MAX(order_purchase_timestamp)) AS last_time\n",
        "from `Business_case.orders`"
      ],
      "metadata": {
        "id": "KdY7DSAunQeF"
      },
      "execution_count": null,
      "outputs": []
    },
    {
      "cell_type": "markdown",
      "source": [
        "#### Inference: From the output we can see that\n",
        "- the first order date was 2016-09-04\n",
        "- The last order date was 2018-10-17\n",
        "- The first order time was 21:15:19\n",
        "- The last order time was 17:30:18\n"
      ],
      "metadata": {
        "id": "dWow9G_DneEw"
      }
    },
    {
      "cell_type": "code",
      "source": [
        "3: Count the Cities & States of customers who ordered during the given period.\n",
        "\n",
        "Query:\n",
        "\n",
        "SELECT count (distinct customer_city) as cities ,\n",
        "count(distinct customer_state ) as states\n",
        "from `Business_case.customers`\n",
        "where customer_id in (select distinct customer_id from `Business_case.orders`)\n"
      ],
      "metadata": {
        "id": "m7bm5gbFnRwn"
      },
      "execution_count": null,
      "outputs": []
    },
    {
      "cell_type": "markdown",
      "source": [
        "#### Inference: From the result we can see that there are 4119 cities and 27 states of customers who ordered during the given period ( 2016 -2018)\n",
        "\n"
      ],
      "metadata": {
        "id": "IcZdHMa0nNei"
      }
    },
    {
      "cell_type": "markdown",
      "source": [
        "## Q2: In-depth Exploration:"
      ],
      "metadata": {
        "id": "uZrQb5lkoGDX"
      }
    },
    {
      "cell_type": "code",
      "source": [
        "1: Is there a growing trend in the no. of orders placed over the past years?\n",
        "\n",
        "Query:\n",
        "\n",
        "select\n",
        "extract(year from order_purchase_timestamp) as year,\n",
        "extract(month from order_purchase_timestamp) as month,\n",
        "count(order_id) as no_of_orders,\n",
        "from `Business_case.orders`\n",
        "group by 1,2\n",
        "order by 1,2 ;"
      ],
      "metadata": {
        "id": "mFAd73-joJqM"
      },
      "execution_count": null,
      "outputs": []
    },
    {
      "cell_type": "markdown",
      "source": [
        "#### Inference:\n",
        "From the output we can see that the no of orders for each month from 2016 to 2018.\n",
        "- for the first 3 months of 2016 (months September, October, December) there was no consistent number of orders this is because the company was not established in Brazil and company was in starting phase of making their setup. Once the company well established there in the Brazil (from 2017 onwards)\n",
        "- we can see there is growth in the number of orders and in November 2017 there is peak or company recorded highest number of orders (7544 orders) there can be multiple reasons why there was peak in November like there might be a Christmas sale, might be end of year sale, might be black Friday sale etc.\n",
        "- After then there is stable or consistency in the number of orders till august 2018\n",
        "- After that the number of orders fall the reason might be the company was wrapping up their operations.\n",
        "- So the answer is yes, there is a growing trend in the no. of orders placed over the past years."
      ],
      "metadata": {
        "id": "VInWcFC9oOHi"
      }
    },
    {
      "cell_type": "code",
      "source": [
        "2: Can we see some kind of monthly seasonality in terms of the no. of orders being placed?\n",
        "\n",
        "Query:\n",
        "\n",
        "select\n",
        "extract(year from order_purchase_timestamp) as year,\n",
        "extract(month from order_purchase_timestamp) as month,\n",
        "count(order_id) as no_of_orders,\n",
        "from `Business_case.orders`\n",
        "group by 1,2\n",
        "order by 1,2 ;\n"
      ],
      "metadata": {
        "id": "G5r8SJlFo0yR"
      },
      "execution_count": null,
      "outputs": []
    },
    {
      "cell_type": "markdown",
      "source": [
        "#### Inference:\n",
        "- Yes, we can see there is monthly seasonality in terms of the number of orders being placed, like\n",
        "- When the company was setting up their operation there was no such a consistency in the number of orders, once company established or well settled in the market we can see the sudden growth in the very first month 2017 and after that there is consistent growth in the number of orders for each\n",
        "month\n",
        "- In November 2017 we can see company recorded their highest numbers of order being placed there can be number of reasons behind it like Christmas sale, thanks giving sale etc.\n",
        "- company can predict there can be a more sale than usual months when there are some occasions like Christmas or any other. So, company should be ready with storage of more products, having more inventory , logistics, vendors, workers etc.\n",
        "- After peak the next month there was slight drop in orders but then for next 5 months there was stable or constant number for the orders\n",
        "- We can see the for the last two months of 2018 there was a huge drop in the orders as company was wrapping up their operations.\n"
      ],
      "metadata": {
        "id": "1Moetn_zpECN"
      }
    },
    {
      "cell_type": "code",
      "source": [
        "3: During what time of the day, do the Brazilian customers mostly place their orders?\n",
        "(Dawn, Morning, Afternoon or Night)\n",
        "\n",
        "Query:\n",
        "\n",
        "SELECT\n",
        "COUNT(order_id) AS no_of_orders,\n",
        "CASE\n",
        "WHEN hr BETWEEN 0 AND 6 THEN 'Dawn'\n",
        "WHEN hr BETWEEN 7 AND 12 THEN 'Morning'\n",
        "WHEN hr BETWEEN 13 AND 18 THEN 'Afternoon'\n",
        "WHEN hr BETWEEN 19 AND 23 THEN 'Night'\n",
        "END AS Time_Interval\n",
        "FROM\n",
        "(SELECT\n",
        "order_id,\n",
        "EXTRACT(HOUR FROM order_purchase_timestamp) AS hr\n",
        "from `Business_case.orders`)\n",
        "group by Time_Interval ;\n"
      ],
      "metadata": {
        "id": "YsS8dXO1pvV5"
      },
      "execution_count": null,
      "outputs": []
    },
    {
      "cell_type": "markdown",
      "source": [
        "#### Inference:\n",
        "-The above table gives the number of orders during different time interval Brazilian people orders.\n",
        "- Afternoon is the time interval when Brazilian people orders the most as a count of 38135 orders. The number of orders peaked during afternoon suggest people prefers afternoon time\n",
        "to order.\n",
        "- After that Night is the time when orders reduce as compare to afternoon but has a decent number of orders as people might orders after work.\n",
        "- Morning time also has moderate number of orders placed and number of orders placed in Dawn time is relatively very low as compare to other\n",
        "times of the day.\n",
        "- So Afternoon is the time of the day when Brazilian people orders most and during Dawn they orders less\n"
      ],
      "metadata": {
        "id": "20OgleDvqHYX"
      }
    },
    {
      "cell_type": "markdown",
      "source": [
        "## Q3: Evolution of E-commerce orders in the Brazil region"
      ],
      "metadata": {
        "id": "dFt5IyGesBlQ"
      }
    },
    {
      "cell_type": "code",
      "source": [
        "1: Get the month-on-month no. of orders placed in each state.\n",
        "\n",
        "Query:\n",
        "\n",
        "select count(o.order_id) as no_of_orders,\n",
        "c.customer_state,\n",
        "extract (month from o.order_purchase_timestamp) as month\n",
        "from `Business_case.orders` o\n",
        "inner join `Business_case.customers` c\n",
        "on o.customer_id=c.customer_id\n",
        "group by c.customer_state,month\n",
        "order by c.customer_state,month asc;\n"
      ],
      "metadata": {
        "id": "5bSHwz4TsGEO"
      },
      "execution_count": null,
      "outputs": []
    },
    {
      "cell_type": "markdown",
      "source": [
        "#### Inference:\n",
        "- Above output shows the number of orders placed in each customer state for each month. Like for State AC there are number of order given for each 12 months then for AL there are also number of orders given for each 12 months and so on for every 27 states for each 12 months\n",
        "- From this pattern we can get numbers of orders for each month for a particular state if we find out which state orders most in what month then we have to be prepared for next year by having more storage, more products, vendors, logistics so that we can deliver best to the customers  \n",
        "- And also for  that state which orders least in a particular month , we can run some kind of discount on products or have some kind of sale so that customers might get attracted .\n",
        "- Also we can get number of orders for each month to each state, from we can study pattern of customers behaviour and be prepared for\n",
        "coming years\n"
      ],
      "metadata": {
        "id": "zlJ6NkFgsMes"
      }
    },
    {
      "cell_type": "code",
      "source": [
        "2: How are the customers distributed across all the states?\n",
        "\n",
        "Query:\n",
        "\n",
        "select customer_state,\n",
        "count(distinct customer_id) as no_of_unique_customers\n",
        "from `Business_case.customers`\n",
        "group by customer_state;"
      ],
      "metadata": {
        "id": "U4CsGOmBswFC"
      },
      "execution_count": null,
      "outputs": []
    },
    {
      "cell_type": "markdown",
      "source": [
        "#### Inference:\n",
        "-Above table shows the number of unique customers present in each state. Like for state RN there are 485 customers present,1336 customers are shopping in the state named CE.\n",
        "- SP is the State showing most number of customers having number equals to 41746.\n",
        "- And RR is the state having least customers having number equals to 46.\n",
        "- Since we have least customers in state RR we have to take some measurable actions to grow our sale there by having some marketing and promotion, by finding out customers need at least customers states and adding that product In the store, enhancing customer experience by providing them exceptional customer service, offering incentives like loyalty benefits and reward ,improve product quality can help company to grow in the states having least customers\n",
        "\n",
        "\n",
        "\n",
        "\n"
      ],
      "metadata": {
        "id": "nEDP6sbBs0SL"
      }
    },
    {
      "cell_type": "markdown",
      "source": [
        "## Q4: Impact on Economy: Analyse the money movement by e-commerce by looking at order prices, freight and others.\n"
      ],
      "metadata": {
        "id": "r5Um-1ZztV0M"
      }
    },
    {
      "cell_type": "code",
      "source": [
        "1: Get the % increase in the cost of orders from year 2017 to 2018 (include months between Jan to Aug only).\n",
        "\n",
        "Query:\n",
        "\n",
        "select Total_2017_payment_value,Total_2018_payment_value,\n",
        "round(((Total_2018_payment_value-Total_2017_payment_value)/ Total_2017_payment_value * 100\n",
        "),2) as increase_percentage from\n",
        "(select\n",
        "round(sum(case when order_purchase_timestamp between '2017-01-01' and '2017-08-31' then\n",
        "payment_value else 0 end ),2) as Total_2017_payment_value ,\n",
        "round(sum (case when order_purchase_timestamp between '2018-01-01' and '2018-08-31' then\n",
        "payment_value else 0 end ),2) as Total_2018_payment_value,\n",
        "FROM Business_case.payments p\n",
        "INNER JOIN Business_case.orders o ON p.order_id = o.order_id) a"
      ],
      "metadata": {
        "id": "Z5fVZ1mMutpO"
      },
      "execution_count": null,
      "outputs": []
    },
    {
      "cell_type": "markdown",
      "source": [
        "#### Inference:\n",
        "- The table presents the cumulative payment values from January to August for the years 2017 and 2018, along with the percentage increase in payment value.\n",
        "- The total payment value for\n",
        "\n",
        "And the increase in payment value from 2017 to 2018, goes approximately 138.53%"
      ],
      "metadata": {
        "id": "kHd7hZfOu1pK"
      }
    },
    {
      "cell_type": "markdown",
      "source": [
        "#### Inference:\n",
        "- The table presents the cumulative payment values from January to August for the years 2017 and 2018, along with the percentage increase in payment value.\n",
        "- The total payment value for 2017 amounts to approximately 3,645,107.27, while for 2018, it reaches approximately 8,694,669.95.\n",
        "- And the increase in payment value from 2017 to 2018, goes approximately 138.53%"
      ],
      "metadata": {
        "id": "X68ZwYM_vB2E"
      }
    },
    {
      "cell_type": "code",
      "source": [
        "2: Calculate the Total & Average value of order price for each state.\n",
        "\n",
        "Query:\n",
        "\n",
        "Select sum(p.payment_value) as Total_price ,\n",
        "avg(p.payment_value) as Average_price ,\n",
        "c.customer_state\n",
        "from `Business_case.customers` c inner join\n",
        "`Business_case.orders` o\n",
        "on c.customer_id = o.customer_id\n",
        "inner join `Business_case.payments` p\n",
        "on o.order_id = p.order_id\n",
        "group by c.customer_state"
      ],
      "metadata": {
        "id": "iebd5LLBvP0Q"
      },
      "execution_count": null,
      "outputs": []
    },
    {
      "cell_type": "markdown",
      "source": [
        "#### Inference:\n",
        "- The above table has 3 columns names as Total price ,Average price, customer state.\n",
        "-Total_price shows the total price of orders for each state and Average_price shows the average price of orders for each state.\n",
        "- For above table, the state RJ total price is around 2144379 and average price\n",
        "is around 158. The state named SP recorded highest total price around 5998226 and\n",
        "- State RR has lowest total price around 10064. State PB has highest Average price around 248 and state SP has lowest Average price around 137.\n",
        "\n",
        "\n"
      ],
      "metadata": {
        "id": "Iuh1sziFvT1a"
      }
    },
    {
      "cell_type": "code",
      "source": [
        "3: Calculate the Total & Average value of order freight for each state.\n",
        "\n",
        "Query:\n",
        "\n",
        "select round(sum(freight_value),2) as Total_freight_value,\n",
        "round(avg(freight_value),2) as Average_freight_value,\n",
        "customer_state\n",
        "from `Business_case.customers` c inner join\n",
        "`Business_case.orders` o\n",
        "on c.customer_id = o.customer_id\n",
        "inner join `Business_case.order_items` i\n",
        "on o.order_id=i.order_id\n",
        "group by c.customer_state"
      ],
      "metadata": {
        "id": "KzQnzfPlvh8c"
      },
      "execution_count": null,
      "outputs": []
    },
    {
      "cell_type": "markdown",
      "source": [
        "#### Inference :\n",
        "- The above table has 3 columns names as Total_freight_value ,Average_freight_value and customer_state.\n",
        "- The Total_freight_value shows the total freight value of orders for each state and Average_freight_value shows the average freight value of orders for each state.\n",
        "- For above table, the\n",
        "state SP has highest total freight value which is around 718723 and the state RR has the lowest freight value around 2235.\n",
        "- The state named RR has highest Average freight value around 42.98 and\n",
        "state SP has lowest freight value which is around 15.15."
      ],
      "metadata": {
        "id": "QDW1xm7kvlZe"
      }
    },
    {
      "cell_type": "markdown",
      "source": [
        "## Q5: Analysis based on sales, freight and delivery time."
      ],
      "metadata": {
        "id": "tRIWV9ShvzPe"
      }
    },
    {
      "cell_type": "code",
      "source": [
        "1: Find the no. of days taken to deliver each order from the order’s purchase date as delivery time.\n",
        "\n",
        "Query:\n",
        "\n",
        "select order_id,\n",
        "DATE_DIFF(order_delivered_customer_date, order_purchase_timestamp,day) as time_to_deliver,\n",
        "DATE_DIFF(order_delivered_customer_date, order_estimated_delivery_date,day) as\n",
        "diff_estimated_delivery\n",
        "from `Business_case.orders`\n"
      ],
      "metadata": {
        "id": "5Xxpe48hv2JK"
      },
      "execution_count": null,
      "outputs": []
    },
    {
      "cell_type": "markdown",
      "source": [
        "#### Inference :\n",
        "- Above table shows time to deliver and difference of estimated delivery for each order id.\n",
        "- Time to deliver is the number of days taken to deliver each order to the customer from the order’s purchase date and difference of estimated delivery is number of days between the estimated & actual delivery date of an order to the customer.\n",
        "- We can see that there are many orders with delivery date more than 30 days which is not good for any company as this will impact business,\n",
        "- We have to reduce that delivery time. We should have as low as delivery date\n",
        "- We should take actions to reduce delivery time like maintain inventory to prevent stockouts, use of automation to handle orders quickly, partner up with logistics and various transportation, build distribution canters or warehouses to distinct locations etc. Also, we have to strictly avoid difference estimated date i.e.\n",
        "- We have to avoid delay in delivery of product, this too can achieved by above actions , if we have given estimated date of delivery, we have to get that product delivered on or before the estimated delivery date to maintain growth in business.\n"
      ],
      "metadata": {
        "id": "iOIFjYjhv84T"
      }
    },
    {
      "cell_type": "code",
      "source": [
        "2: Find out the top 5 states with the highest & lowest average freight value.\n",
        "\n",
        "Query:\n",
        "\n",
        "WITH cte AS (\n",
        "SELECT\n",
        "c.customer_state,\n",
        "ROUND(AVG(freight_value), 2) AS avg_freight\n",
        "FROM\n",
        "Business_case.customers c\n",
        "INNER JOIN\n",
        "Business_case.orders o ON c.customer_id = o.customer_id\n",
        "INNER JOIN\n",
        "Business_case.order_items i ON o.order_id = i.order_id\n",
        "GROUP BY\n",
        "c.customer_state\n",
        ")\n",
        "(SELECT\n",
        "customer_state ,\n",
        "row_number()over( order by avg_freight ) as rank\n",
        "from cte\n",
        "limit 5)\n",
        "union all\n",
        "(SELECT\n",
        "customer_state,\n",
        "row_number()over( order by avg_freight desc) as rank\n",
        "from cte\n",
        "limit 5) ;"
      ],
      "metadata": {
        "id": "UesBAHNpwuq0"
      },
      "execution_count": null,
      "outputs": []
    },
    {
      "cell_type": "markdown",
      "source": [
        "#### Inference :\n",
        "- The above table gives the customer state where ranking is given to each state\n",
        "according to average freight value.\n",
        "- First five states have highest average freight value the states are\n",
        "RR, PB, RO, AC, PI and\n",
        "- Next five states have lowest average freight value the states are SP, PR, MG\n",
        ",RJ,DF."
      ],
      "metadata": {
        "id": "j1ud_tVPwyEW"
      }
    },
    {
      "cell_type": "code",
      "source": [
        "3: Find out the top 5 states with the highest & lowest average delivery time.\n",
        "\n",
        "Query:\n",
        "\n",
        "with cte as\n",
        "(select c.customer_state,\n",
        "round(avg(DATE_DIFF(order_delivered_customer_date, order_purchase_timestamp,day)),2) as\n",
        "avg_delivery_days\n",
        "from `Business_case.customers` c inner join\n",
        "`Business_case.orders` o on c.customer_id=o.customer_id\n",
        "group by c.customer_state)\n",
        "(select customer_state,\n",
        "avg_delivery_days,\n",
        "row_number() over(order by cte.avg_delivery_days DESC) as top_5_Bottom_5_rank\n",
        "from cte\n",
        "limit 5)\n",
        "union all\n",
        "(select customer_state,\n",
        "avg_delivery_days ,\n",
        "row_number() over(order by cte.avg_delivery_days ASC) as top_5_Bottom_5_rank\n",
        "from cte\n",
        "limit 5)\n"
      ],
      "metadata": {
        "id": "VEGcu3cFw79A"
      },
      "execution_count": null,
      "outputs": []
    },
    {
      "cell_type": "markdown",
      "source": [
        "#### Inference :\n",
        "- The above table gives the view of top 5 states with lowest average delivery time and top 5 highest average delivery time.\n",
        "- SP is the state leading as top state with lowest average delivery\n",
        "time of about almost 8 days. Customers in state SP gets the order delivered in almost 8 days whereas\n",
        "- PA state customers have to wait of almost 23 days to get their order delivered.\n",
        "- States like SP, PR, MG, DF, SC have lowest delivery time. Customers in these states likely to receive their order within less days contributing higher satisfaction level. Also, Business operations in these states might have optimized logistics and delivery operations.\n",
        "- Whereas, States like RR, AP, AM, AL, PA have the highest delivery time. Customers in these states might experience longer wait times for their orders, and leading to decreased satisfaction and loyalty.\n",
        "- This can impact business in such area, companies need to investigate causes of delay, such as logistical challenges, transportation issue etc.\n",
        "- To improve delivery times in such states we need to be more focused towards improving logistics route, warehouse management or partner up with efficient delivery services etc.\n"
      ],
      "metadata": {
        "id": "WNdSpL0SxAB9"
      }
    },
    {
      "cell_type": "code",
      "source": [
        "4: Find out the top 5 states where the order delivery is really fast as compared to the\n",
        "estimated date of delivery.\n",
        "\n",
        "Query:\n",
        "\n",
        "select c.customer_state,\n",
        "avg(DATE_DIFF(order_delivered_customer_date, order_estimated_delivery_date,day)) as\n",
        "order_delivery\n",
        "from `Business_case.customers` c inner join `Business_case.orders` o on\n",
        "c.customer_id=o.customer_id\n",
        "group by c.customer_state\n",
        "order by order_delivery\n",
        "limit 5 ;"
      ],
      "metadata": {
        "id": "OocalXz2xbAl"
      },
      "execution_count": null,
      "outputs": []
    },
    {
      "cell_type": "markdown",
      "source": [
        "#### Inference :\n",
        "- Above table gives top 5 states where order delivery is really fast as compared to estimated delivery date.\n",
        "- In sate AC order delivery is average 19 days before estimated delivery date\n",
        "and RR state customers get their product delivered 16 days before estimated delivery date"
      ],
      "metadata": {
        "id": "bqXUuREXxfGU"
      }
    },
    {
      "cell_type": "markdown",
      "source": [
        "## Q6: Analysis based on the payments"
      ],
      "metadata": {
        "id": "TKYVmoDUxsoM"
      }
    },
    {
      "cell_type": "code",
      "source": [
        "1: Find the month-on-month no. of orders placed using different payment types.\n",
        "\n",
        "Query:\n",
        "\n",
        "select count(o.order_id) as no_of_orders,p.payment_type,\n",
        "extract (month from order_purchase_timestamp ) as month\n",
        "from `Business_case.payments` p inner join\n",
        "`Business_case.orders` o on p.order_id=o.order_id\n",
        "group by 2,3\n",
        "order by 3 asc;\n"
      ],
      "metadata": {
        "id": "kxqi6c0gxvBB"
      },
      "execution_count": null,
      "outputs": []
    },
    {
      "cell_type": "markdown",
      "source": [
        "#### Inference :\n",
        "-Above table shows the number of orders placed using different payment methods in each month . Like for 1st month i.e. January 477 orders were placed using voucher as a payment type ,6103 orders were placed using credit card,118 orders placed using debit card ,1715 orders placed using UPI as a payment type.\n",
        "- From observation we can see that, most customers are using credit\n",
        "card as a payment type so we can offer them benefits like reward like giving points to the customers which they can use as discount etc.\n",
        "- Also we can see debit card is least used as payment type.\n",
        "- To make customers use debit card more often we can give them benefits like cashback on using debit card, referrals like customers to refer friends and family to shopping using debit card, early bird discount offers to debit card users etc.\n",
        "\n"
      ],
      "metadata": {
        "id": "oGHxJgwpxyL5"
      }
    },
    {
      "cell_type": "code",
      "source": [
        "2: Find the no. of orders placed on the basis of the payment installments that have\n",
        "been paid.\n",
        "\n",
        "Query:\n",
        "\n",
        "select count(order_id) no_of_orders,\n",
        "payment_installments\n",
        "from `Business_case.payments`\n",
        "where payment_installments > 0\n",
        "group by payment_installments"
      ],
      "metadata": {
        "id": "FgjGNuQuyHWz"
      },
      "execution_count": null,
      "outputs": []
    },
    {
      "cell_type": "markdown",
      "source": [
        "#### Inference :\n",
        "- The table above shows the number of orders according to the number of payment\n",
        "installments completed.\n",
        "- It indicates that there are 52,545 orders where a single installment has been\n",
        "completed, 12,413 orders with two installments completed, and so on"
      ],
      "metadata": {
        "id": "qTp61CTGyUf1"
      }
    }
  ]
}